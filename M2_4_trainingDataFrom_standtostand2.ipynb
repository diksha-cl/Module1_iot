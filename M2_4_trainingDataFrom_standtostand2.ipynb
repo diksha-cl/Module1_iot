{
 "cells": [
  {
   "cell_type": "markdown",
   "metadata": {},
   "source": [
    "# Importing Libraries"
   ]
  },
  {
   "cell_type": "code",
   "execution_count": null,
   "metadata": {},
   "outputs": [],
   "source": [
    "import pandas as pd\n",
    "import import_ipynb\n",
    "import M1_2_trainingSetPrepHelper\n",
    "from ipynb.fs.full.M1_2_trainingSetPrepHelper import convertRawToTrainingInstance"
   ]
  },
  {
   "cell_type": "markdown",
   "metadata": {},
   "source": [
    "In this module, you need to define the function trainingDataFrom_sitstandmult() that should return training instances for the session sitstandmult.csv whose accelerometer readings are stored in sitstandmult.csv. As mentioned, you need to observe the wavy pattern in the plot and note down time readings. The events occuring in the session are as follows: \n",
    "- sit-down (from standing position)\n",
    "- lie-down\n",
    "- turn \n",
    "- turn \n",
    "- turn \n",
    "- turn \n",
    "- sit up\n",
    "- stand up\n",
    "\n"
   ]
  },
  {
   "cell_type": "markdown",
   "metadata": {},
   "source": [
    "## Define the function trainingDataFrom_standtostand1() such that it returns training instances for standtostand2.csv"
   ]
  },
  {
   "cell_type": "code",
   "execution_count": null,
   "metadata": {},
   "outputs": [],
   "source": [
    "\n",
    "\n",
    "def trainingDataFrom_standtostand2():\n",
    "    df = pd.read_csv('standtostand2.csv')\n",
    "    trainingSet = pd.DataFrame()\n",
    "\n",
    "    return trainingSet\n",
    "\n"
   ]
  },
  {
   "cell_type": "code",
   "execution_count": null,
   "metadata": {},
   "outputs": [],
   "source": [
    "trainingDataFrom_standtostand2()"
   ]
  },
  {
   "cell_type": "markdown",
   "metadata": {},
   "source": [
    " The output of the above function would be as follows:\n",
    " <pre> start_time  end_time   stdDevX   absAvgX       ZCRX  minMaxX   stdDevY  \\\n",
    "0      18.007    20.999  0.472953  0.263340   8.689840   2.0330  1.585879   \n",
    "0      23.002    26.998  0.564492  0.388965   8.258258  -0.2568  0.452610   \n",
    "0      33.014    36.997  0.295666  0.211555  14.310821   0.7374  0.182302   \n",
    "0      42.008    45.996  0.266131  0.179142  14.794383   0.0977  0.226152   \n",
    "0      55.003    58.000  0.436380  0.215293  19.686353  -0.2483  0.284018   \n",
    "0      66.006    69.996  0.594964  0.428585   7.017544  -1.0271  0.298974   \n",
    "0      77.002    80.997  0.837308  0.586374  10.262829   0.9528  0.516308   \n",
    "0      87.002    89.998  0.327167  0.238046  17.356475  -0.3792  0.770114   \n",
    "\n",
    "    absAvgY       ZCRY  minMaxY   stdDevZ   absAvgZ       ZCRZ  minMaxZ  \\\n",
    "0  0.971707   4.679144   1.6415  0.494865  0.356465   9.358289  -0.6850   \n",
    "0  0.383670   7.007007  -1.0743  0.372162  0.267318  11.761762  -0.9225   \n",
    "0  0.133475  19.332162   0.0149  0.241720  0.186379  16.821491   0.1215   \n",
    "0  0.159108  12.286861  -0.2872  0.304253  0.195604  17.552658   0.8554   \n",
    "0  0.181768  17.684351   0.0641  0.264892  0.189720  21.354688  -0.8574   \n",
    "0  0.213239  11.027569   0.3308  0.352279  0.260958  13.533835  -0.3326   \n",
    "0  0.389445  14.267835  -0.3680  0.574177  0.426518  14.768461  -0.0784   \n",
    "0  0.505808  14.018692  -1.0963  0.789518  0.518228  10.680908   2.5567   \n",
    "\n",
    "     maxX    maxY    maxZ activity  \n",
    "0  2.8708  5.8186  1.0135  sitDown  \n",
    "0  1.9261  1.1167  0.5944  lieDown  \n",
    "0  1.3975  0.5307  0.8227     turn  \n",
    "0  0.9765  0.6847  1.6662     turn  \n",
    "0  3.1715  1.7982  0.7188     turn  \n",
    "0  1.5543  1.6459  0.9385     turn  \n",
    "0  3.8482  1.9538  1.7308    sitUp  \n",
    "0  0.8270  1.6403  3.4447  standUp  </pre>"
   ]
  },
  {
   "cell_type": "code",
   "execution_count": null,
   "metadata": {},
   "outputs": [],
   "source": []
  },
  {
   "cell_type": "code",
   "execution_count": null,
   "metadata": {},
   "outputs": [],
   "source": []
  }
 ],
 "metadata": {
  "kernelspec": {
   "display_name": "Python 3",
   "language": "python",
   "name": "python3"
  },
  "language_info": {
   "codemirror_mode": {
    "name": "ipython",
    "version": 3
   },
   "file_extension": ".py",
   "mimetype": "text/x-python",
   "name": "python",
   "nbconvert_exporter": "python",
   "pygments_lexer": "ipython3",
   "version": "3.7.4"
  }
 },
 "nbformat": 4,
 "nbformat_minor": 2
}
