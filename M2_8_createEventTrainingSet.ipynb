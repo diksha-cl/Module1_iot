{
 "cells": [
  {
   "cell_type": "markdown",
   "metadata": {},
   "source": [
    "# Importing Libraries and Functions"
   ]
  },
  {
   "cell_type": "code",
   "execution_count": null,
   "metadata": {},
   "outputs": [],
   "source": [
    "import pandas as pd\n",
    "import import_ipynb\n",
    "from ipynb.fs.full.M2_1_trainingDataFrom_one import trainingDataFrom_one\n",
    "from ipynb.fs.full.M2_2_trainingDataFrom_sitstandmult import trainingDataFrom_sitstandmult\n",
    "from ipynb.fs.full.M2_3_trainingDataFrom_standtostand1 import trainingDataFrom_standtostand1\n",
    "from ipynb.fs.full.M2_4_trainingDataFrom_standtostand2 import trainingDataFrom_standtostand2\n",
    "from ipynb.fs.full.M2_5_trainingDataFrom_standtostand3 import trainingDataFrom_standtostand3\n",
    "from ipynb.fs.full.M2_6_trainingDataFrom_type1 import trainingDataFrom_type1\n",
    "from ipynb.fs.full.M2_7_trainingDataFrom_walk1 import trainingDataFrom_walk1\n",
    "\n"
   ]
  },
  {
   "cell_type": "markdown",
   "metadata": {},
   "source": [
    "# Save the data to training.csv by appending training instances from each file"
   ]
  },
  {
   "cell_type": "code",
   "execution_count": 2,
   "metadata": {},
   "outputs": [],
   "source": [
    "trainingSet=pd.DataFrame()\n",
    "# Your code here\n",
    "\n",
    "\n",
    "\n",
    "trainingSet.to_csv('trainingSet.csv')"
   ]
  },
  {
   "cell_type": "markdown",
   "metadata": {},
   "source": [
    "## Once you have finished this assignment, please run the following code to submit. You will receive feedback if your code requires improvement. The next module will be unlocked in your Aspiration dashboard automatically if your code meets requirements."
   ]
  },
  {
   "cell_type": "code",
   "execution_count": null,
   "metadata": {},
   "outputs": [],
   "source": [
    "from Submit.Module2_check import check_2\n",
    "check_2(trainingDataFrom_sitstandmult, trainingDataFrom_standtostand1, trainingDataFrom_type1)"
   ]
  },
  {
   "cell_type": "code",
   "execution_count": null,
   "metadata": {},
   "outputs": [],
   "source": []
  }
 ],
 "metadata": {
  "kernelspec": {
   "display_name": "Python 3",
   "language": "python",
   "name": "python3"
  },
  "language_info": {
   "codemirror_mode": {
    "name": "ipython",
    "version": 3
   },
   "file_extension": ".py",
   "mimetype": "text/x-python",
   "name": "python",
   "nbconvert_exporter": "python",
   "pygments_lexer": "ipython3",
   "version": "3.7.4"
  }
 },
 "nbformat": 4,
 "nbformat_minor": 2
}
