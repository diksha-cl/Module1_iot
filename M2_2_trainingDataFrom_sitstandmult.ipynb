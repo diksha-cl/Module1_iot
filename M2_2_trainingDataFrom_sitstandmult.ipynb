{
 "cells": [
  {
   "cell_type": "markdown",
   "metadata": {},
   "source": [
    "# Import Libraries"
   ]
  },
  {
   "cell_type": "code",
   "execution_count": null,
   "metadata": {},
   "outputs": [],
   "source": [
    "from google.colab import drive"
    "drive.mount("mnt")"
    "%cd mnt/My Drive/Colab Notebooks"
   ]
  },
  {
   "cell_type": "code",
   "execution_count": null,
   "metadata": {
    "scrolled": true
   },
   "outputs": [],
   "source": [
    "import pandas as pd\n",
    "import import_ipynb\n",
    "import M1_2_trainingSetPrepHelper\n",
    "from M1_2_trainingSetPrepHelper import convertRawToTrainingInstance"
   ]
  },
  {
   "cell_type": "markdown",
   "metadata": {},
   "source": [
    "In this module, you need to define the function trainingDataFrom_sitstandmult() that should return training instances for the session sitstandmult.csv whose accelerometer readings are stored in  sitstandmult.csv. As mentioned, you need to observe the wavy pattern in the plot and note down time readings. The events occuring in the session are as follows:\n",
    "- sit-down (from standing position)\n",
    "- lie-down\n",
    "- sit up\n",
    "- stand up<br>\n",
    "These events will be repeated in a cycle. But your first event is sit -down and your last event is stand up."
   ]
  },
  {
   "cell_type": "markdown",
   "metadata": {},
   "source": [
    "# Define a function trainingDataFrom_sitstandmult() that would return training instances for sitstandmult.csv files"
   ]
  },
  {
   "cell_type": "code",
   "execution_count": null,
   "metadata": {},
   "outputs": [],
   "source": [
    "def trainingDataFrom_sitstandmult():\n",
    "   df = pd.read_csv('https://raw.githubusercontent.com/diksha-cl/Iot_csv_files/master/sitstandmult.csv')\n",
    "   trainingSet = pd.DataFrame()\n",
    "    # Your code here\n",
    "   \n",
    "\n",
    "   return trainingSet\n",
    "\n",
    "\n",
    "\n"
   ]
  },
  {
   "cell_type": "code",
   "execution_count": null,
   "metadata": {},
   "outputs": [],
   "source": [
    "trainingDataFrom_sitstandmult()"
   ]
  },
  {
   "cell_type": "markdown",
   "metadata": {},
   "source": [
    "The output of the above function should be as follows:\n",
    "<pre>\n",
    "start_time  end_time   stdDevX   absAvgX       ZCRX  minMaxX   stdDevY  \\\n",
    "0       0.005    84.545  0.426735  0.256246  15.400994   0.9680  0.718268   \n",
    "0      12.000    15.998  0.612796  0.425771   8.754377   0.4820  0.541127   \n",
    "0      19.003    23.000  0.593363  0.462521   7.255442   0.0718  0.459737   \n",
    "0      24.004    26.000  0.333004  0.271313   9.519038  -0.3563  1.189045   \n",
    "0      29.002    31.997  0.343304  0.217614  10.684474   0.7209  1.456132   \n",
    "0      33.003    35.998  0.531568  0.377804   9.682805   0.0995  0.360917   \n",
    "0      37.003    40.979  0.403495  0.300568  10.311871   0.6924  0.337307   \n",
    "0      43.004    44.996  0.404137  0.299012  11.044177  -0.5926  1.337226   \n",
    "0      47.021    49.998  0.270235  0.191432  12.428619   0.1974  1.111272   \n",
    "0      50.003    53.994  0.433005  0.298355   9.521423  -0.3185  0.382239   \n",
    "0      56.003    58.996  0.407806  0.354440   7.684597   0.0246  0.464902   \n",
    "0      60.009    61.996  0.334621  0.249673   6.039255  -0.5367  1.085947   \n",
    "0      65.005    67.995  0.286655  0.188569  16.722408  -0.0209  0.826157   \n",
    "0      68.001    72.000  0.497478  0.341644   8.752188   0.2845  0.425288   \n",
    "0      73.013    76.997  0.312580  0.241671  12.299197  -0.1994  0.279665   \n",
    "0      78.004    79.992  0.389498  0.314101  10.060362  -0.3643  1.307968   \n",
    "\n",
    "    absAvgY       ZCRY  minMaxY   stdDevZ   absAvgZ       ZCRZ  minMaxZ  \\\n",
    "0  0.383741  14.300923   0.8418  0.583227  0.324629  16.311805   0.8735   \n",
    "0  0.407370   9.504752  -1.0370  0.557458  0.365466  10.505253  -1.6057   \n",
    "0  0.353500  13.009757  -0.6191  0.706256  0.463873  12.759570   0.0188   \n",
    "0  0.821215   8.517034  -0.4613  1.153680  0.767789   6.513026   2.5858   \n",
    "0  0.945742   3.672788   2.2050  0.562830  0.380040   6.010017  -1.2218   \n",
    "0  0.324582   9.348915  -1.3457  0.547107  0.367110   9.682805  -1.0167   \n",
    "0  0.258588  11.820926  -0.4032  0.481290  0.342688  11.569416   0.5078   \n",
    "0  0.820446  11.044177   1.0212  0.916149  0.681585   6.526104   3.2972   \n",
    "0  0.758500   4.702721   2.4237  0.468208  0.321448  10.077259  -0.2962   \n",
    "0  0.315153   9.270859  -1.1370  0.417869  0.256334  16.036081  -0.7033   \n",
    "0  0.359472   8.352823  -1.3840  0.541444  0.398387   8.018710  -0.8936   \n",
    "0  0.724506   9.058883   0.0355  1.014264  0.740276   3.522899   2.9913   \n",
    "0  0.601415   6.688963   1.2815  0.515507  0.346645  10.367893  -0.3955   \n",
    "0  0.343302   7.501875  -0.9548  0.407394  0.251089  18.754689  -1.0041   \n",
    "0  0.219840  15.311245  -0.2702  0.414302  0.287333  11.044177   0.3892   \n",
    "0  0.876877   5.533199  -1.0246  1.203582  0.802377  11.066398   3.0938   \n",
    "\n",
    "     maxX    maxY    maxZ activity  \n",
    "0  4.4191  5.3425  5.5041  sitDown  \n",
    "0  2.2852  1.3676  0.9901  lieDown  \n",
    "0  1.6077  1.1344  2.4827    sitUp  \n",
    "0  0.5392  2.5619  4.0007  standUp  \n",
    "0  1.5757  5.3425  0.8877  sitDown  \n",
    "0  1.9606  0.3053  0.8496  lieDown  \n",
    "0  1.5602  0.9580  1.7099    sitUp  \n",
    "0  0.7592  3.8762  4.2098  standUp  \n",
    "0  0.9016  4.1747  1.0697  sitDown  \n",
    "0  1.2579  0.6813  1.0497  lieDown  \n",
    "0  1.1113  0.8731  1.1368    sitUp  \n",
    "0  0.4878  2.7194  3.9673  standUp  \n",
    "0  0.9173  2.6508  1.2490  sitDown  \n",
    "0  1.9995  0.9540  0.9446  lieDown  \n",
    "0  0.9194  0.8138  1.5897    sitUp  \n",
    "0  0.6926  2.4961  4.4347  standUp </pre>  "
   ]
  },
  {
   "cell_type": "code",
   "execution_count": null,
   "metadata": {},
   "outputs": [],
   "source": []
  },
  {
   "cell_type": "code",
   "execution_count": null,
   "metadata": {},
   "outputs": [],
   "source": []
  }
 ],
 "metadata": {
  "kernelspec": {
   "display_name": "Python 3",
   "language": "python",
   "name": "python3"
  },
  "language_info": {
   "codemirror_mode": {
    "name": "ipython",
    "version": 3
   },
   "file_extension": ".py",
   "mimetype": "text/x-python",
   "name": "python",
   "nbconvert_exporter": "python",
   "pygments_lexer": "ipython3",
   "version": "3.7.4"
  }
 },
 "nbformat": 4,
 "nbformat_minor": 2
}
