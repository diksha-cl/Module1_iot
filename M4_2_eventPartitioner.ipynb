{
 "cells": [
  {
   "cell_type": "markdown",
   "metadata": {},
   "source": [
    "# Importing Libraries"
   ]
  },
  {
   "cell_type": "code",
   "execution_count": 44,
   "metadata": {},
   "outputs": [],
   "source": [
    "import import_ipynb\n",
    "import M4_1_eventClassifier\n",
    "from ipynb.fs.full.M4_1_eventClassifier import eventClassifier\n",
    "from globalVars import strongEvents\n",
    "from globalVars import eventsDict"
   ]
  },
  {
   "cell_type": "markdown",
   "metadata": {},
   "source": [
    "# Minimum and Maximum size of the window"
   ]
  },
  {
   "cell_type": "code",
   "execution_count": 45,
   "metadata": {},
   "outputs": [],
   "source": [
    "minWinSize = 1\n",
    "maxWinSize = 6"
   ]
  },
  {
   "cell_type": "markdown",
   "metadata": {},
   "source": [
    "# Try to find events sequence in a session. But make sure you find strong events."
   ]
  },
  {
   "cell_type": "code",
   "execution_count": 46,
   "metadata": {},
   "outputs": [],
   "source": [
    "def find_event(accl_readings, offset):\n",
    "    offset = round(offset)\n",
    "    win = accl_readings.loc[(accl_readings.time >= offset) & (accl_readings.time < offset+minWinSize)\n",
    "    initEvent='None'\n",
    "    return (initEvent, minWinSize)\n",
    "\n",
    "\n",
    "def find_events(accl_readings):\n",
    "    currOffset = accl_readings['time'].min()\n",
    "    eventsSequence = []\n",
    "    initEvent='None'\n",
    "    return eventsSequence"
   ]
  },
  {
   "cell_type": "code",
   "execution_count": 47,
   "metadata": {},
   "outputs": [],
   "source": [
    "import pandas as pd\n",
    "df=pd.read_csv('one.csv')"
   ]
  },
  {
   "cell_type": "code",
   "execution_count": 48,
   "metadata": {},
   "outputs": [],
   "source": [
    "accl_readings=df"
   ]
  },
  {
   "cell_type": "code",
   "execution_count": null,
   "metadata": {},
   "outputs": [],
   "source": [
    "find_event(accl_readings,accl_readings.time.min())"
   ]
  },
  {
   "cell_type": "markdown",
   "metadata": {},
   "source": [
    "## Once you have finished this assignment, please run the following code to submit. You will receive feedback if your code requires improvement. Interview will be unlocked in your Aspiration dashboard automatically if your code meets requirements."
   ]
  },
  {
   "cell_type": "code",
   "execution_count": null,
   "metadata": {},
   "outputs": [],
   "source": [
    "from Submit.Module4_check import check_4\n",
    "check_4(eventClassifier)"
   ]
  }
 ],
 "metadata": {
  "kernelspec": {
   "display_name": "Python 3",
   "language": "python",
   "name": "python3"
  },
  "language_info": {
   "codemirror_mode": {
    "name": "ipython",
    "version": 3
   },
   "file_extension": ".py",
   "mimetype": "text/x-python",
   "name": "python",
   "nbconvert_exporter": "python",
   "pygments_lexer": "ipython3",
   "version": "3.7.4"
  }
 },
 "nbformat": 4,
 "nbformat_minor": 2
}
