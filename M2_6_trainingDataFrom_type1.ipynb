{
 "cells": [
  {
   "cell_type": "markdown",
   "metadata": {},
   "source": [
    "# Import Libraries"
   ]
  },
  {
   "cell_type": "code",
   "execution_count": null,
   "metadata": {},
   "outputs": [],
   "source": [
    "import pandas as pd\n",
    "import import_ipynb\n",
    "import M1_2_trainingSetPrepHelper\n",
    "from ipynb.fs.full.M1_2_trainingSetPrepHelper import convertRawToTrainingInstance"
   ]
  },
  {
   "cell_type": "markdown",
   "metadata": {},
   "source": [
    "# Define the function trainingDataFrom_type1() such that it returns a dataframe containing all training instances for the particular file type1.csv These file contains many events(all are typing) which you can observe through different waves  from wavefromer used in Module 1."
   ]
  },
  {
   "cell_type": "code",
   "execution_count": null,
   "metadata": {},
   "outputs": [],
   "source": [
    "def trainingDataFrom_type1():\n",
    "    trainingSet = pd.DataFrame()\n",
    "    dfO = pd.read_csv('type1.csv')\n",
    "    return trainingSet"
   ]
  },
  {
   "cell_type": "code",
   "execution_count": null,
   "metadata": {},
   "outputs": [],
   "source": [
    "trainingDataFrom_type1()"
   ]
  },
  {
   "cell_type": "markdown",
   "metadata": {},
   "source": [
    " The output of the above function is as follows:\n",
    " <pre>\n",
    " start_time  end_time   stdDevX   absAvgX       ZCRX  minMaxX   stdDevY  \\\n",
    "0       6.004     6.990  0.032835  0.027985  31.440162   0.0689  0.036801   \n",
    "0       7.004     7.992  0.025805  0.024022  30.364372   0.0414  0.034282   \n",
    "0       8.015     8.996  0.032211  0.028360  33.639144   0.0219  0.046540   \n",
    "0      21.003    21.999  0.113150  0.092410  12.048193  -0.0229  0.051460   \n",
    "0      24.018    24.984  0.158548  0.126555  13.457557   0.1035  0.050883   \n",
    "0      26.010    26.991  0.105770  0.077725  27.522936   0.1064  0.060698   \n",
    "0      28.004    28.996  0.043534  0.036939  28.225806   0.0339  0.055559   \n",
    "\n",
    "    absAvgY       ZCRY  minMaxY   stdDevZ   absAvgZ       ZCRZ  minMaxZ  \\\n",
    "0  0.031481  43.610548  -0.0410  0.062310  0.053510  28.397566   0.0033   \n",
    "0  0.029598  37.449393  -0.0276  0.054064  0.048342  26.315789   0.0154   \n",
    "0  0.033833  40.774720  -0.0197  0.065267  0.055497  28.542304   0.0681   \n",
    "0  0.042279  32.128514   0.0017  0.099706  0.084771  16.064257  -0.0781   \n",
    "0  0.040707  32.091097  -0.0472  0.103889  0.087208  11.387164   0.0474   \n",
    "0  0.048248  23.445464   0.0112  0.065899  0.058880  26.503568  -0.0308   \n",
    "0  0.044991  25.201613  -0.0866  0.093094  0.077417  17.137097   0.0887   \n",
    "\n",
    "     maxX    maxY    maxZ activity  \n",
    "0  0.1516  0.0772  0.1606     type  \n",
    "0  0.0971  0.0867  0.1665     type  \n",
    "0  0.1099  0.1419  0.2412     type  \n",
    "0  0.2496  0.1228  0.2117     type  \n",
    "0  0.3788  0.1088  0.2737     type  \n",
    "0  0.3152  0.1590  0.1409     type  \n",
    "0  0.1334  0.1052  0.3030     type  </pre>"
   ]
  }
 ],
 "metadata": {
  "kernelspec": {
   "display_name": "Python 3",
   "language": "python",
   "name": "python3"
  },
  "language_info": {
   "codemirror_mode": {
    "name": "ipython",
    "version": 3
   },
   "file_extension": ".py",
   "mimetype": "text/x-python",
   "name": "python",
   "nbconvert_exporter": "python",
   "pygments_lexer": "ipython3",
   "version": "3.7.4"
  }
 },
 "nbformat": 4,
 "nbformat_minor": 2
}
