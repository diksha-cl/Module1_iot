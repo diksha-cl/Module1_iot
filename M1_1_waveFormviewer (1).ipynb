{
 "cells": [
  {
   "cell_type": "markdown",
   "metadata": {},
   "source": [
    "# Libraries Required\n"
   ]
  },
  {
   "cell_type": "code",
   "execution_count": null,
   "metadata": {},
   "outputs": [],
   "source": [
    "import pandas as pd\n",
    "import matplotlib.pyplot as plt\n",
    "import math"
   ]
  },
  {
   "cell_type": "markdown",
   "metadata": {},
   "source": [
    "# Import the csv file multiEvents1 you have been allotted using 'pd.read_csv()' function into a dataframe."
   ]
  },
  {
   "cell_type": "code",
   "execution_count": null,
   "metadata": {},
   "outputs": [],
   "source": [
    "df= pd.read_csv('sitstandmult.csv')"
   ]
  },
  {
   "cell_type": "markdown",
   "metadata": {},
   "source": [
    "# Calculate the duration, start time and end time of the dataframe. The start time of this dataframe is calculated is the  minimum of all the values present in time attribute. Similarly for end time. Duration is the difference between min and max time attribute.\n"
   ]
  },
  {
   "cell_type": "code",
   "execution_count": null,
   "metadata": {},
   "outputs": [],
   "source": [
    "def duration(DF):\n",
    "    return DF.time.min(), DF.time.max(), DF.time.max() - DF.time.min()\n",
    "start=df.time.min()\n",
    "end=df.time.max()\n",
    "duration = duration(df)[0]\n",
    "print(start, end, duration)"
   ]
  },
  {
   "cell_type": "markdown",
   "metadata": {},
   "source": [
    "# Make a function clip(DF, start, end) such that this function returns a subset of dataframe DF (say df) such that time attributes of df lies between start and end. "
   ]
  },
  {
   "cell_type": "code",
   "execution_count": null,
   "metadata": {},
   "outputs": [],
   "source": [
    "def clip(DF, start, end):\n",
    "    df=pd.DataFrame()\n",
    "    df=DF.loc[(DF.time >= start) & (DF.time <= end)]\n",
    "    return df"
   ]
  },
  {
   "cell_type": "markdown",
   "metadata": {},
   "source": [
    "# Plot ay versus time for a window size of 50. For eg: start time is 0.05 and end time is 53. Then you have to plot two plots one from 0.05 to 50.05. Then plot 50.05 to 53. \n"
   ]
  },
  {
   "cell_type": "code",
   "execution_count": null,
   "metadata": {},
   "outputs": [],
   "source": [
    "fig=plt.figure(figsize=(15, 6), dpi= 80, facecolor='w', edgecolor='k')\n",
    "plotDuration = 50\n",
    "numPlots = math.ceil(duration/plotDuration)\n",
    "\n",
    "for i in range(numPlots):\n",
    "    df = clip(df, i*plotDuration, (i+1)*plotDuration)\n",
    "    fig=plt.figure(figsize=(15, 4), dpi= 80, facecolor='w', edgecolor='k')\n",
    "    plt1 = fig.add_subplot(111)\n",
    "    plt1.plot(df['time'], df['ay'], color='blue')\n",
    "    plt.grid(True)\n",
    "    plt.show()\n",
    "    "
   ]
  },
  {
   "cell_type": "code",
   "execution_count": null,
   "metadata": {},
   "outputs": [],
   "source": []
  }
 ],
 "metadata": {
  "kernelspec": {
   "display_name": "Python 3",
   "language": "python",
   "name": "python3"
  },
  "language_info": {
   "codemirror_mode": {
    "name": "ipython",
    "version": 3
   },
   "file_extension": ".py",
   "mimetype": "text/x-python",
   "name": "python",
   "nbconvert_exporter": "python",
   "pygments_lexer": "ipython3",
   "version": "3.7.4"
  }
 },
 "nbformat": 4,
 "nbformat_minor": 2
}
