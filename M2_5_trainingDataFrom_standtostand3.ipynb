{
 "cells": [
  {
   "cell_type": "markdown",
   "metadata": {},
   "source": [
    "# Import Libraries"
   ]
  },
  {
   "cell_type": "code",
   "execution_count": null,
   "metadata": {},
   "outputs": [],
   "source": [
    "import pandas as pd\n",
    "import import_ipynb\n",
    "import M1_2_trainingSetPrepHelper\n",
    "from ipynb.fs.full.M1_2_trainingSetPrepHelper import convertRawToTrainingInstance"
   ]
  },
  {
   "cell_type": "markdown",
   "metadata": {},
   "source": [
    "In this module, you need to define the function trainingDataFrom_sitstandmult() that should return training instances for the session sitstandmult.csv whose accelerometer readings are stored in sitstandmult.csv. As mentioned, you need to observe the wavy pattern in the plot and note down time readings. The events occuring in the session are as follows:\n",
    "This file contains the following events: \n",
    "- sit-down (from standing position)\n",
    "- lie-down\n",
    "- turn (on back)\n",
    "- turn (to left)\n",
    "- turn (on back)\n",
    "- turn (to left)\n",
    "- sit up\n",
    "'''"
   ]
  },
  {
   "cell_type": "markdown",
   "metadata": {},
   "source": [
    "# Define the function trainingDataFrom_standtostand3() such that it should return all instances of the training file standtostand3.csv"
   ]
  },
  {
   "cell_type": "code",
   "execution_count": null,
   "metadata": {},
   "outputs": [],
   "source": [
    "def trainingDataFrom_standtostand3():\n",
    "    df = pd.read_csv('standtostand3.csv')\n",
    "    trainingSet = pd.DataFrame()\n",
    "    return trainingSet"
   ]
  },
  {
   "cell_type": "code",
   "execution_count": null,
   "metadata": {},
   "outputs": [],
   "source": [
    "trainingDataFrom_standtostand3()"
   ]
  },
  {
   "cell_type": "markdown",
   "metadata": {},
   "source": [
    "The output of the above function would be as follows:\n",
    "<pre>\n",
    "start_time  end_time   stdDevX   absAvgX       ZCRX  minMaxX   stdDevY  \\\n",
    "0      11.000    15.000  0.372879  0.224742   9.500000   0.7929  1.052173   \n",
    "0      16.018    20.998  0.752662  0.477974  10.240964  -1.2685  0.552566   \n",
    "0      26.020    30.988  0.325408  0.197365  17.310789   0.6612  0.216105   \n",
    "0      34.001    37.993  0.262034  0.153095  22.545090   1.0316  0.162713   \n",
    "0      44.003    47.998  0.211832  0.142853  20.525657  -0.5139  0.175758   \n",
    "0      60.001    64.992  0.767267  0.536820  10.819475  -1.0943  0.557387   \n",
    "0      68.004    69.996  0.767757  0.569540   6.024096  -1.5277  1.194900   \n",
    "\n",
    "    absAvgY       ZCRY  minMaxY   stdDevZ   absAvgZ       ZCRZ  minMaxZ  \\\n",
    "0  0.616610   9.000000   1.9173  0.534733  0.343087  13.000000  -0.7966   \n",
    "0  0.404323   9.036145  -1.3556  0.603011  0.402176  12.650602  -0.6326   \n",
    "0  0.140558  17.310789   0.1986  0.276020  0.187337  18.317230   0.4651   \n",
    "0  0.116017  17.284569  -0.5732  0.265064  0.201054  18.787575   0.2250   \n",
    "0  0.130147  18.523154   0.1934  0.230965  0.164261  19.023780  -0.1878   \n",
    "0  0.396095  13.424163  -0.1813  0.493504  0.312500  15.027049   0.7444   \n",
    "0  0.916679   4.518072  -0.6681  1.262400  0.939166   8.534137   2.3166   \n",
    "\n",
    "     maxX    maxY    maxZ activity  \n",
    "0  1.7869  4.6574  1.4032  sitDown  \n",
    "0  2.1144  1.4511  1.7615  lieDown  \n",
    "0  1.2222  1.0794  1.4414     turn  \n",
    "0  1.8763  0.5003  0.8588     turn  \n",
    "0  0.5440  0.7269  0.7667     turn  \n",
    "0  1.9083  1.6315  2.3895     turn  \n",
    "0  1.3427  2.1476  3.7682    sitUp  </pre>"
   ]
  },
  {
   "cell_type": "code",
   "execution_count": null,
   "metadata": {},
   "outputs": [],
   "source": []
  }
 ],
 "metadata": {
  "kernelspec": {
   "display_name": "Python 3",
   "language": "python",
   "name": "python3"
  },
  "language_info": {
   "codemirror_mode": {
    "name": "ipython",
    "version": 3
   },
   "file_extension": ".py",
   "mimetype": "text/x-python",
   "name": "python",
   "nbconvert_exporter": "python",
   "pygments_lexer": "ipython3",
   "version": "3.7.4"
  }
 },
 "nbformat": 4,
 "nbformat_minor": 2
}
