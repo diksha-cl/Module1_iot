{
 "cells": [
  {
   "cell_type": "markdown",
   "metadata": {},
   "source": [
    "# Import libraries"
   ]
  },
 {
   "cell_type": "code",
   "execution_count": null,
   "metadata": {},
   "outputs": [],
   "source": [
    "from google.colab import drive"
    "drive.mount("mnt")"
    "%cd mnt/My Drive/Colab Notebooks"
   ]
  },
  {
   "cell_type": "code",
   "execution_count": null,
   "metadata": {
    "scrolled": true
   },
   "outputs": [],
   "source": [
    "import pandas as pd\n",
    "import import_ipynb\n",
    "import M1_2_trainingSetPrepHelper\n",
    "from M1_2_trainingSetPrepHelper import convertRawToTrainingInstance"
   ]
  },
  {
   "cell_type": "markdown",
   "metadata": {},
   "source": [
    "Training file 'standtostand1.csv' contains the following events: \n",
    "- sit-down (from standing position)\n",
    "- lie-down\n",
    "- turn (on back)\n",
    "- turn (to left)\n",
    "- turn (on back)\n",
    "- turn (to left)\n",
    "- sit up\n",
    "- stand up\n",
    "<br> <br>\n",
    "You have to detect the following events by observing wavy pattern in plot of the file. Similar to the plot you have observed in Module 1. \n"
   ]
  },
  {
   "cell_type": "markdown",
   "metadata": {},
   "source": [
    "# Define the function trainingDataFrom_standtostand1() such that it returns training instances for standtostand1.csv"
   ]
  },
  {
   "cell_type": "code",
   "execution_count": null,
   "metadata": {},
   "outputs": [],
   "source": [
    "def trainingDataFrom_standtostand1():\n",
    "    df = pd.read_csv('https://raw.githubusercontent.com/diksha-cl/Iot_csv_files/master/standtostand1.csv')\n",
    "    trainingSet = pd.DataFrame()\n",
    "    # Your coode here\n",
    "    \n",
    "    \n",
    "    return trainingSet\n"
   ]
  },
  {
   "cell_type": "code",
   "execution_count": null,
   "metadata": {},
   "outputs": [],
   "source": [
    "trainingDataFrom_standtostand1()"
   ]
  },
  {
   "cell_type": "markdown",
   "metadata": {},
   "source": [
    "The output of the above function should be as follows:\n",
    "<pre>\n",
    " start_time  end_time   stdDevX   absAvgX       ZCRX  minMaxX   stdDevY  \\\n",
    "0       8.500    12.000  0.233401  0.162637  11.142857   0.1070  0.975027   \n",
    "0      16.001    20.000  0.743747  0.522821   7.001750  -0.6323  0.558959   \n",
    "0      28.000    31.998  0.279397  0.187084  16.758379   1.1366  0.156203   \n",
    "0      34.004    36.988  0.650939  0.386087   7.707775   2.2561  0.178590   \n",
    "0      45.000    48.997  0.252946  0.161178  17.012760  -0.9158  0.151613   \n",
    "0      60.001    64.000  0.859383  0.579973  12.753188   1.4727  0.533762   \n",
    "0      68.003    70.000  0.416118  0.330868   7.010516   0.0452  0.944483   \n",
    "\n",
    "    absAvgY       ZCRY  minMaxY   stdDevZ   absAvgZ       ZCRZ  minMaxZ  \\\n",
    "0  0.628557   4.285714   1.7712  0.480034  0.293098  14.857143  -0.4561   \n",
    "0  0.405055  11.252813  -1.5497  0.639068  0.401460  12.253063  -1.5530   \n",
    "0  0.114463  17.758879   0.0141  0.210368  0.166126  12.756378  -0.1760   \n",
    "0  0.124965  19.436997  -0.0459  0.411893  0.283500  20.107239   0.3433   \n",
    "0  0.108349  25.268952  -0.0282  0.257783  0.159108  20.515387  -0.0824   \n",
    "0  0.401699  13.253313  -0.0940  0.698727  0.448832  15.753938   1.5294   \n",
    "0  0.688214  12.518778  -0.1281  0.971090  0.636659  12.018027   2.4745   \n",
    "\n",
    "     maxX    maxY    maxZ activity  \n",
    "0  0.7609  4.0370  1.1591  sitDown  \n",
    "0  2.0451  1.1953  1.1209  lieDown  \n",
    "0  1.6002  0.5319  0.6603     turn  \n",
    "0  4.1082  0.9728  1.5292     turn  \n",
    "0  0.6276  0.6907  1.2353     turn  \n",
    "0  4.1601  1.5742  3.5695    sitUp  \n",
    "0  1.0220  2.0540  3.4306  standUp </pre>  \n",
    "​"
   ]
  }
 ],
 "metadata": {
  "kernelspec": {
   "display_name": "Python 3",
   "language": "python",
   "name": "python3"
  },
  "language_info": {
   "codemirror_mode": {
    "name": "ipython",
    "version": 3
   },
   "file_extension": ".py",
   "mimetype": "text/x-python",
   "name": "python",
   "nbconvert_exporter": "python",
   "pygments_lexer": "ipython3",
   "version": "3.7.4"
  }
 },
 "nbformat": 4,
 "nbformat_minor": 2
}
