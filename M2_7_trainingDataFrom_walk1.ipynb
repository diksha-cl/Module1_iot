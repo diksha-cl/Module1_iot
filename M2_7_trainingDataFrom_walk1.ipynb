{
 "cells": [
  {
   "cell_type": "markdown",
   "metadata": {},
   "source": [
    "# Importing Libraries"
   ]
  },
  {
   "cell_type": "code",
   "execution_count": null,
   "metadata": {},
   "outputs": [],
   "source": [
    "import pandas as pd\n",
    "import import_ipynb\n",
    "import M1_2_trainingSetPrepHelper\n",
    "from M1_2_trainingSetPrepHelper import convertRawToTrainingInstance\n"
   ]
  },
  {
   "cell_type": "markdown",
   "metadata": {},
   "source": [
    "# Define the function trainingDataFrom_walk1() such that it returns training instances for walk1.csv. This file contains only one event i.e. walking. You just need to observe the wavy pattern"
   ]
  },
  {
   "cell_type": "code",
   "execution_count": null,
   "metadata": {},
   "outputs": [],
   "source": [
    "def trainingDataFrom_walk1():\n",
    "    trainingSet = pd.DataFrame()\n",
    "    dfO = pd.read_csv('walk1.csv')\n",
    "    return trainingSet"
   ]
  },
  {
   "cell_type": "code",
   "execution_count": null,
   "metadata": {},
   "outputs": [],
   "source": [
    "trainingDataFrom_walk1()"
   ]
  },
  {
   "cell_type": "markdown",
   "metadata": {},
   "source": [
    "The output of the above function would be as follows:\n",
    "<pre>\n",
    "start_time  end_time   stdDevX   absAvgX       ZCRX  minMaxX   stdDevY  \\\n",
    "0       7.400     8.695  0.918759  0.771649   4.633205  -0.8121  1.081907   \n",
    "0       8.701     9.196  0.781092  0.591945  14.141414   1.0086  1.775018   \n",
    "0       9.222     9.899  1.159751  0.979196   4.431315  -1.2432  1.492341   \n",
    "0       9.904    10.498  0.696437  0.569347   8.417508   1.0929  1.828754   \n",
    "\n",
    "    absAvgY      ZCRY  minMaxY   stdDevZ   absAvgZ       ZCRZ  minMaxZ  \\\n",
    "0  0.827760  6.949807   0.7028  0.897739  0.796019   1.544402   0.4897   \n",
    "0  1.442136  6.060606   1.7890  1.146736  1.129422   2.020202   0.4148   \n",
    "0  0.944132  7.385524   2.8222  1.413390  1.050249  10.339734   2.1030   \n",
    "0  1.236510  8.417508   3.0911  1.089388  0.966965   3.367003   0.9695   \n",
    "\n",
    "     maxX    maxY    maxZ activity  \n",
    "0  1.7971  3.2694  2.2316     walk  \n",
    "0  2.0875  4.3086  2.2146     walk  \n",
    "0  1.7146  5.5179  3.8555     walk  \n",
    "0  2.2236  5.7726  2.4089     walk  </pre>"
   ]
  },
  {
   "cell_type": "code",
   "execution_count": null,
   "metadata": {},
   "outputs": [],
   "source": []
  }
 ],
 "metadata": {
  "kernelspec": {
   "display_name": "Python 3",
   "language": "python",
   "name": "python3"
  },
  "language_info": {
   "codemirror_mode": {
    "name": "ipython",
    "version": 3
   },
   "file_extension": ".py",
   "mimetype": "text/x-python",
   "name": "python",
   "nbconvert_exporter": "python",
   "pygments_lexer": "ipython3",
   "version": "3.7.4"
  }
 },
 "nbformat": 4,
 "nbformat_minor": 2
}
