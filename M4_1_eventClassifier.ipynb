{
 "cells": [
  {
   "cell_type": "markdown",
   "metadata": {},
   "source": [
    "# Import library pickle and used the required function to extract scaler and model from the file."
   ]
  },
  {
   "cell_type": "code",
   "execution_count": null,
   "metadata": {
    "scrolled": true
   },
   "outputs": [],
   "source": [
    "import pickle \n",
    "from sklearn.preprocessing import StandardScaler\n",
    "#v = pickle.load(open('trainedEventClassifier.sav', 'rb'))\n",
    "f = open('trainedEventClassifier.sav', 'rb')\n",
    "v = pickle.load(f)\n",
    "f.close()\n",
    "scaler = v[0]\n",
    "model = v[1]\n",
    "import import_ipynb\n",
    "import M1_2_trainingSetPrepHelper\n",
    "from ipynb.fs.full.M1_2_trainingSetPrepHelper import activity_data_to_features\n",
    "from globalVars import reverseEventsDict\n",
    "from globalVars import features"
   ]
  },
  {
   "cell_type": "code",
   "execution_count": null,
   "metadata": {},
   "outputs": [],
   "source": [
    "scaler"
   ]
  },
  {
   "cell_type": "markdown",
   "metadata": {},
   "source": [
    "\n",
    "### Your output should be as follows: StandardScaler(copy=True, with_mean=True, with_std=True)"
   ]
  },
  {
   "cell_type": "markdown",
   "metadata": {},
   "source": [
    "# Define a function eventClassifier(win) in which you have to pass a dataframe of accelrometer readings and return prediction of the event."
   ]
  },
  {
   "cell_type": "code",
   "execution_count": 4,
   "metadata": {},
   "outputs": [],
   "source": [
    "def eventClassifier(win):\n",
    "    winSize = win['time'].max() - win['time'].min()\n",
    "    prediction=['none']\n",
    "    return prediction[0]"
   ]
  },
  {
   "cell_type": "code",
   "execution_count": 5,
   "metadata": {},
   "outputs": [],
   "source": [
    "import pandas as pd\n",
    "df=pd.read_csv('type1.csv')"
   ]
  },
  {
   "cell_type": "code",
   "execution_count": null,
   "metadata": {},
   "outputs": [],
   "source": [
    "a=eventClassifier(df)\n",
    "print(a)"
   ]
  }
 ],
 "metadata": {
  "kernelspec": {
   "display_name": "Python 3",
   "language": "python",
   "name": "python3"
  },
  "language_info": {
   "codemirror_mode": {
    "name": "ipython",
    "version": 3
   },
   "file_extension": ".py",
   "mimetype": "text/x-python",
   "name": "python",
   "nbconvert_exporter": "python",
   "pygments_lexer": "ipython3",
   "version": "3.7.4"
  }
 },
 "nbformat": 4,
 "nbformat_minor": 2
}
